{
  "nbformat": 4,
  "nbformat_minor": 0,
  "metadata": {
    "colab": {
      "name": "RAO_algorithm.ipynb",
      "provenance": [],
      "authorship_tag": "ABX9TyNVXQsJN4XnD0J0n1D50OQi",
      "include_colab_link": true
    },
    "kernelspec": {
      "name": "python3",
      "display_name": "Python 3"
    }
  },
  "cells": [
    {
      "cell_type": "markdown",
      "metadata": {
        "id": "view-in-github",
        "colab_type": "text"
      },
      "source": [
        "<a href=\"https://colab.research.google.com/github/sbl003/BtechProject/blob/sblbranch/RAO_algorithm.ipynb\" target=\"_parent\"><img src=\"https://colab.research.google.com/assets/colab-badge.svg\" alt=\"Open In Colab\"/></a>"
      ]
    },
    {
      "cell_type": "code",
      "metadata": {
        "id": "L9zKvJdRQLME",
        "colab_type": "code",
        "colab": {}
      },
      "source": [
        "import random\n",
        "import math\n",
        "import numpy as np\n",
        "maxfes = 5000 #Maximum functions evaluation\n",
        "dim = 30 #Number of design variables\n",
        "SearchAgents_no = 10 #Population size\n",
        "Max_iter = math.floor(maxfes/SearchAgents_no) #Maximum number of iterations\n",
        "lb = -100*np.ones(dim) #lower bound\n",
        "ub = 100*np.ones(dim) #upper bound"
      ],
      "execution_count": 0,
      "outputs": []
    },
    {
      "cell_type": "markdown",
      "metadata": {
        "id": "nQUQdksmZuU7",
        "colab_type": "text"
      },
      "source": [
        "Objective   function  \n",
        "    \n",
        "    Sphere function "
      ]
    },
    {
      "cell_type": "markdown",
      "metadata": {
        "id": "XWQetguqaIYs",
        "colab_type": "text"
      },
      "source": [
        ""
      ]
    },
    {
      "cell_type": "code",
      "metadata": {
        "id": "R5C-uI6_QwJG",
        "colab_type": "code",
        "colab": {}
      },
      "source": [
        "def fitness(particle):\n",
        "  y = 0\n",
        "  for i in range(dim):\n",
        "    y= y + particle[i]**2 # sphere function\n",
        "  return y"
      ],
      "execution_count": 0,
      "outputs": []
    },
    {
      "cell_type": "markdown",
      "metadata": {
        "id": "ZW3Inhj1ZEaO",
        "colab_type": "text"
      },
      "source": [
        "RAO 1  equation \n",
        "\n",
        "\n",
        "   X'j,k,i = Xj,k,i + r1,j,i (Xj,best,i - Xj,worst,i)\t\t"
      ]
    },
    {
      "cell_type": "code",
      "metadata": {
        "id": "5z6kByqkRG_I",
        "colab_type": "code",
        "colab": {}
      },
      "source": [
        "Positions = np.zeros((SearchAgents_no, dim)) # search agent position\n",
        "best_pos = np.zeros(dim) # search agent's best position\n",
        "worst_pos = np.zeros(dim) # search agent's worst position\n",
        "finval = np.zeros(Max_iter) # best score of each iteration\n",
        "f1 = np.zeros(SearchAgents_no) # function value of current population\n",
        "f2 = np.zeros(SearchAgents_no) # function value of updated population\n",
        "for i in range(dim):\n",
        "  Positions[:, i] = np.random.uniform(0,1, SearchAgents_no) * (ub[i] - lb[i]) + lb[i]\n",
        "for k in range(0,Max_iter):\n",
        "  best_score = float(\"inf\")\n",
        "  worst_score = float(\"-inf\")\n",
        "  for i in range(0,SearchAgents_no):\n",
        "    # Return back the search agents that go beyond the boundaries of the search space\n",
        "    for j in range(dim):\n",
        "      Positions[i,j]=np.clip(Positions[i,j], lb[j], ub[j])\n",
        "      f1[i]= fitness(Positions[i,:])\n",
        "      if f1[i] < best_score :\n",
        "        best_score=f1[i].copy(); # Update best\n",
        "        best_pos=Positions[i,:].copy()\n",
        "      if f1[i] > worst_score :\n",
        "        worst_score=f1[i].copy(); # Update worst\n",
        "        worst_pos=Positions[i,:].copy()\n",
        "    # Update the Position of search agents including omegas\n",
        "    finval[k] = best_score\n",
        "    print(\"The best solution is: \",best_score , \" in iteration number: \",k+1)\n",
        "    Positioncopy = Positions.copy()\n",
        "    for i in range(0,SearchAgents_no):\n",
        "      for j in range (0,dim):\n",
        "        r1=random.random() # r1 is a random number in [0,1]\n",
        "        Positions[i,j]= Positions[i,j] + r1*(best_pos[j]-worst_pos[j]) #change in position\n",
        "        Positions[i,j]=np.clip(Positions[i,j], lb[j], ub[j])\n",
        "      f2[i] = fitness(Positions[i,:])\n",
        "  for i in range(0,SearchAgents_no):\n",
        "    if (f1[i] < f2[i]):\n",
        "      Positions[i,:] = Positioncopy[i,:]\n",
        "best_score = np.amin(finval)\n",
        "print(\"The best solution is: \",best_score)"
      ],
      "execution_count": 0,
      "outputs": []
    },
    {
      "cell_type": "markdown",
      "metadata": {
        "id": "JqPh8ytUZYZq",
        "colab_type": "text"
      },
      "source": [
        " Rao-2 algorithm:\n",
        "\n",
        "X'j,k,i = Xj,k,i + r1,j,i (Xj,best,i - Xj,worst,i) + r2,j,i (│Xj,k,i or Xj,l,i│- │Xj,l,i or Xj,k,i│)"
      ]
    },
    {
      "cell_type": "code",
      "metadata": {
        "id": "RAg0GzZ8UW0S",
        "colab_type": "code",
        "colab": {}
      },
      "source": [
        "\n",
        "Positions = np.zeros((SearchAgents_no, dim)) # search agent position\n",
        "best_pos = np.zeros(dim) # search agent's best position\n",
        "worst_pos = np.zeros(dim) # search agent's worst position\n",
        "finval = np.zeros(Max_iter) # best score of each iteration\n",
        "f1 = np.zeros(SearchAgents_no) # function value of current population\n",
        "f2 = np.zeros(SearchAgents_no) # function value of updated population\n",
        "for i in range(dim):\n",
        "  Positions[:, i] = np.random.uniform(0,1, SearchAgents_no) * (ub[i] - lb[i]) + lb[i]\n",
        "for k in range(0,Max_iter):\n",
        "  best_score = float(\"inf\")\n",
        "  worst_score = float(\"-inf\")\n",
        "  for i in range(0,SearchAgents_no):\n",
        "    # Return back the search agents that go beyond the boundaries of the search space\n",
        "    for j in range(dim):\n",
        "      Positions[i,j]=np.clip(Positions[i,j], lb[j], ub[j])\n",
        "      f1[i]= fitness(Positions[i,:])\n",
        "      if f1[i] < best_score :\n",
        "        best_score=f1[i].copy(); # Update best\n",
        "        best_pos=Positions[i,:].copy()\n",
        "      if f1[i] > worst_score :\n",
        "        worst_score=f1[i].copy(); # Update worst\n",
        "        worst_pos=Positions[i,:].copy()\n",
        "    # Update the Position of search agents including omegas\n",
        "    finval[k] = best_score\n",
        "    print(\"The best solution is: \",best_score , \" in iteration number: \",k+1)\n",
        "    Positioncopy = Positions.copy()\n",
        "    r = np.random.randint(SearchAgents_no, size=1)\n",
        "    for i in range(0,SearchAgents_no):\n",
        "      if (f1[i] < f1[r]):\n",
        "        for j in range (0,dim):\n",
        "          r1=random.random() # r1 is a random number in [0,1]\n",
        "          r2=random.random() # r1 is a random number in [0,1]\n",
        "          Positions[i,j]= Positions[i,j] + r1*(best_pos[j]-worst_pos[j]) + r2*(np.abs(Positions[i,j])-np.abs(Positions[r,j]))#change in position\n",
        "          Positions[i,j]=np.clip(Positions[i,j], lb[j], ub[j])\n",
        "      else :\n",
        "        for j in range (0,dim):\n",
        "          r1=random.random() # r1 is a random number in [0,1]\n",
        "          r2=random.random() # r1 is a random number in [0,1]\n",
        "          Positions[i,j]= Positions[i,j] + r1*(best_pos[j]-worst_pos[j]) + r2*(np.abs(Positions[r,j])-np.abs(Positions[i,j]))#change in position\n",
        "          Positions[i,j]=np.clip(Positions[i,j], lb[j], ub[j])\n",
        "      f2[i] = fitness(Positions[i,:])\n",
        "    for i in range(0,SearchAgents_no):\n",
        "      if (f1[i] < f2[i]):\n",
        "        Positions[i,:] = Positioncopy[i,:]\n",
        "best_score = np.amin(finval)\n",
        "print(\"The best solution is: \",best_score)"
      ],
      "execution_count": 0,
      "outputs": []
    },
    {
      "cell_type": "markdown",
      "metadata": {
        "id": "RSGd1E_CZi6Z",
        "colab_type": "text"
      },
      "source": [
        "\n",
        "Rao-3 algorithm:\n",
        "\n",
        "X'j,k,i = Xj,k,i + r1,j,i (Xj,best,i -│Xj,worst,i│) + r2,j,i (│Xj,k,i or Xj,l,i│- (Xj,l,i or Xj,k,i)) "
      ]
    },
    {
      "cell_type": "code",
      "metadata": {
        "id": "teqRxZsiXao_",
        "colab_type": "code",
        "colab": {}
      },
      "source": [
        "\n",
        "Positions = np.zeros((SearchAgents_no, dim)) # search agent position\n",
        "best_pos = np.zeros(dim) # search agent's best position\n",
        "worst_pos = np.zeros(dim) # search agent's worst position\n",
        "finval = np.zeros(Max_iter) # best score of each iteration\n",
        "f1 = np.zeros(SearchAgents_no) # function value of current population\n",
        "f2 = np.zeros(SearchAgents_no) # function value of updated population\n",
        "for i in range(dim):\n",
        "  Positions[:, i] = np.random.uniform(0,1, SearchAgents_no) * (ub[i] - lb[i]) + lb[i]\n",
        "for k in range(0,Max_iter):\n",
        "  best_score = float(\"inf\")\n",
        "  worst_score = float(\"-inf\")\n",
        "  for i in range(0,SearchAgents_no):\n",
        "    # Return back the search agents that go beyond the boundaries of the search space\n",
        "    for j in range(dim):\n",
        "      Positions[i,j]=np.clip(Positions[i,j], lb[j], ub[j])\n",
        "      f1[i]= fitness(Positions[i,:])\n",
        "      if f1[i] < best_score :\n",
        "        best_score=f1[i].copy(); # Update best\n",
        "        best_pos=Positions[i,:].copy()\n",
        "      if f1[i] > worst_score :\n",
        "        worst_score=f1[i].copy(); # Update worst\n",
        "        worst_pos=Positions[i,:].copy()\n",
        "    # Update the Position of search agents including omegas\n",
        "    finval[k] = best_score\n",
        "    print(\"The best solution is: \",best_score , \" in iteration number: \",k+1)\n",
        "    Positioncopy = Positions.copy()\n",
        "    r = np.random.randint(SearchAgents_no, size=1)\n",
        "    for i in range(0,SearchAgents_no):\n",
        "      if (f1[i] < f1[r]):\n",
        "        for j in range (0,dim):\n",
        "          r1=random.random() # r1 is a random number in [0,1]\n",
        "          r2=random.random() # r1 is a random number in [0,1]\n",
        "          Positions[i,j]= Positions[i,j] + r1*(best_pos[j]-np.abs(worst_pos[j])) + r2*(np.abs(Positions[i,j])-Positions[r,j])#change in position\n",
        "          Positions[i,j]=np.clip(Positions[i,j], lb[j], ub[j])\n",
        "      else :\n",
        "        for j in range (0,dim):\n",
        "          r1=random.random() # r1 is a random number in [0,1]\n",
        "          r2=random.random() # r1 is a random number in [0,1]\n",
        "          Positions[i,j]= Positions[i,j] + r1*(best_pos[j]-np.abs(worst_pos[j])) + r2*(np.abs(Positions[r,j])-Positions[i,j])#change in position\n",
        "          Positions[i,j]=np.clip(Positions[i,j], lb[j], ub[j])\n",
        "      f2[i] = fitness(Positions[i,:])\n",
        "    for i in range(0,SearchAgents_no):\n",
        "      if (f1[i] < f2[i]):\n",
        "        Positions[i,:] = Positioncopy[i,:]\n",
        "best_score = np.amin(finval)\n",
        "print(\"The best solution is: \",best_score)"
      ],
      "execution_count": 0,
      "outputs": []
    }
  ]
}